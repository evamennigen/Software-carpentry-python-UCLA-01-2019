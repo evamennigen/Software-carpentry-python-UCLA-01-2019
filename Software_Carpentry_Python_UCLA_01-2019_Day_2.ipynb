{
 "cells": [
  {
   "cell_type": "markdown",
   "metadata": {},
   "source": [
    "# Day 2 of software carpentry\n",
    "## starting off with lists in python"
   ]
  },
  {
   "cell_type": "code",
   "execution_count": 1,
   "metadata": {},
   "outputs": [
    {
     "name": "stdout",
     "output_type": "stream",
     "text": [
      "pressures:  [0.273, 0.275, 0.277, 0.275, 0.276]\n",
      "length:  5\n"
     ]
    }
   ],
   "source": [
    "pressures = [0.273, 0.275, 0.277, 0.275, 0.276]\n",
    "print('pressures: ', pressures)\n",
    "print('length: ', len(pressures))"
   ]
  },
  {
   "cell_type": "code",
   "execution_count": 3,
   "metadata": {},
   "outputs": [
    {
     "name": "stdout",
     "output_type": "stream",
     "text": [
      "pressures is now:  [0.265, 0.275, 0.277, 0.275, 0.276]\n"
     ]
    }
   ],
   "source": [
    "pressures[0] = 0.265\n",
    "print('pressures is now: ', pressures)"
   ]
  },
  {
   "cell_type": "code",
   "execution_count": 4,
   "metadata": {},
   "outputs": [
    {
     "name": "stdout",
     "output_type": "stream",
     "text": [
      "zeroth item of pressures: 0.265\n"
     ]
    }
   ],
   "source": [
    "print('zeroth item of pressures:', pressures[0])"
   ]
  },
  {
   "cell_type": "code",
   "execution_count": 26,
   "metadata": {},
   "outputs": [
    {
     "name": "stdout",
     "output_type": "stream",
     "text": [
      "primes is initially:  [2, 3, 5]\n",
      "primes has become:  [2, 3, 5, 7, 9]\n"
     ]
    }
   ],
   "source": [
    "primes = [2, 3, 5]\n",
    "print('primes is initially: ', primes)\n",
    "primes.append(7)\n",
    "primes.append(9)\n",
    "print('primes has become: ', primes)"
   ]
  },
  {
   "cell_type": "code",
   "execution_count": 27,
   "metadata": {},
   "outputs": [
    {
     "name": "stdout",
     "output_type": "stream",
     "text": [
      "primes is current: [2, 3, 5, 7, 9]\n",
      "primes has now become: [2, 3, 5, 7, 9, 11, 13, 17, 19]\n",
      "and now primes is: [2, 3, 5, 7, 9, 11, 13, 17, 19, [37, 41, 43, 47]]\n"
     ]
    }
   ],
   "source": [
    "teen_primes = [11, 13, 17, 19]\n",
    "middle_aged_primes = [37, 41, 43, 47]\n",
    "print('primes is current:', primes)\n",
    "\n",
    "\n",
    "primes.extend(teen_primes)\n",
    "print('primes has now become:', primes)\n",
    "\n",
    "# append just adds object b to object a in the format object b was before - that's why here it is now a list in a list\n",
    "primes.append(middle_aged_primes)\n",
    "print('and now primes is:', primes)"
   ]
  },
  {
   "cell_type": "code",
   "execution_count": 31,
   "metadata": {},
   "outputs": [
    {
     "name": "stdout",
     "output_type": "stream",
     "text": [
      "primes before removing last item:  [2, 3, 5, 7, 11, 13, 17, 19, [37, 41, 43, 47]]\n",
      "primes after removing the last:  [2, 3, 5, 7, 13, 17, 19, [37, 41, 43, 47]]\n"
     ]
    }
   ],
   "source": [
    "print('primes before removing last item: ', primes)\n",
    "del primes[4]\n",
    "print('primes after removing the last: ', primes)\n",
    "# if you reference the list in a list to delete it will remove the entire list\n",
    "# but you can reference elements in the list\n",
    "# like so: \n",
    "#del primes[7][0]"
   ]
  },
  {
   "cell_type": "code",
   "execution_count": 32,
   "metadata": {},
   "outputs": [
    {
     "name": "stdout",
     "output_type": "stream",
     "text": [
      "[2, 3, 5, 7, 13, 17, 19, [41, 43, 47]]\n"
     ]
    }
   ],
   "source": [
    "del primes[7][0]\n",
    "print(primes)"
   ]
  },
  {
   "cell_type": "markdown",
   "metadata": {},
   "source": [
    "## Note:\n",
    "* a function is followed by parathensis\n",
    "* a method is added with a dot\n",
    "* del for example is a statement built-in in the language, it's a \"keyword\""
   ]
  },
  {
   "cell_type": "code",
   "execution_count": null,
   "metadata": {},
   "outputs": [],
   "source": [
    "goals = [1, 'create lists.', 2, 'Extract items from lists.', 3, 'modify list']"
   ]
  },
  {
   "cell_type": "code",
   "execution_count": 25,
   "metadata": {},
   "outputs": [
    {
     "name": "stdout",
     "output_type": "stream",
     "text": [
      "zeroth character: c\n"
     ]
    }
   ],
   "source": [
    "element = 'carbon'\n",
    "print('zeroth character:', element[0])"
   ]
  },
  {
   "cell_type": "markdown",
   "metadata": {},
   "source": [
    "## for loops in python"
   ]
  },
  {
   "cell_type": "code",
   "execution_count": 33,
   "metadata": {},
   "outputs": [
    {
     "name": "stdout",
     "output_type": "stream",
     "text": [
      "2\n",
      "3\n",
      "5\n"
     ]
    }
   ],
   "source": [
    "for number in [2, 3, 5]:\n",
    "    print(number)"
   ]
  },
  {
   "cell_type": "code",
   "execution_count": 34,
   "metadata": {},
   "outputs": [
    {
     "name": "stdout",
     "output_type": "stream",
     "text": [
      "2\n"
     ]
    }
   ],
   "source": [
    "my_list = [2, 3, 5]\n",
    "print(my_list[0])\n",
    "# etc. there are theoretically manual ways to accomplish the same as in a for loop"
   ]
  },
  {
   "cell_type": "code",
   "execution_count": 38,
   "metadata": {},
   "outputs": [
    {
     "name": "stdout",
     "output_type": "stream",
     "text": [
      "2\n",
      "3\n",
      "5\n"
     ]
    }
   ],
   "source": [
    "for number in my_list:\n",
    "    print(number)\n",
    "    "
   ]
  },
  {
   "cell_type": "markdown",
   "metadata": {},
   "source": [
    "## Don't forget the colon at the end"
   ]
  },
  {
   "cell_type": "code",
   "execution_count": 39,
   "metadata": {},
   "outputs": [
    {
     "name": "stdout",
     "output_type": "stream",
     "text": [
      "2\n",
      "3\n",
      "5\n",
      "total = 10\n"
     ]
    }
   ],
   "source": [
    "total = 0\n",
    "for number in [2, 3, 5]:\n",
    "    print(number)\n",
    "    total = total + number\n",
    "print('total =', total)"
   ]
  },
  {
   "cell_type": "code",
   "execution_count": 40,
   "metadata": {},
   "outputs": [],
   "source": [
    "firtName = 'Jon'\n",
    "lastName = 'Smith'"
   ]
  },
  {
   "cell_type": "code",
   "execution_count": 44,
   "metadata": {},
   "outputs": [
    {
     "name": "stdout",
     "output_type": "stream",
     "text": [
      "a range is not a list: range(0, 3)\n",
      "1\n",
      "3\n",
      "5\n",
      "7\n",
      "9\n"
     ]
    }
   ],
   "source": [
    "print('a range is not a list: range(0, 3)')\n",
    "for number in range(0, 9, 2): # the third argument is called the stride and tells the interpreter to only print everyother object (or whatever you specify)\n",
    "    print(number + 1)"
   ]
  },
  {
   "cell_type": "code",
   "execution_count": 46,
   "metadata": {},
   "outputs": [
    {
     "name": "stdout",
     "output_type": "stream",
     "text": [
      "1\n",
      "3\n",
      "6\n",
      "10\n",
      "15\n",
      "21\n",
      "28\n",
      "36\n",
      "45\n",
      "55\n",
      "55\n"
     ]
    }
   ],
   "source": [
    "# Sum the first 10 integers\n",
    "total = 0\n",
    "for number in range(10):\n",
    "    total = total + (number +1) # remember that python starts counting at 0 that's why you need the +1\n",
    "    print(total)\n",
    "print(total)"
   ]
  },
  {
   "cell_type": "code",
   "execution_count": 47,
   "metadata": {},
   "outputs": [
    {
     "name": "stdout",
     "output_type": "stream",
     "text": [
      "3\n"
     ]
    }
   ],
   "source": [
    "total = 0\n",
    "for char in 'tin':\n",
    "    total = total + 1\n",
    "print(total)"
   ]
  },
  {
   "cell_type": "code",
   "execution_count": 48,
   "metadata": {},
   "outputs": [
    {
     "name": "stdout",
     "output_type": "stream",
     "text": [
      "4\n"
     ]
    }
   ],
   "source": [
    "total = 0\n",
    "for char in 'tiny': # the loop is just looping through based on the number of single characters in the string\n",
    "    total = total + 1\n",
    "print(total)"
   ]
  },
  {
   "cell_type": "code",
   "execution_count": 59,
   "metadata": {},
   "outputs": [
    {
     "name": "stdout",
     "output_type": "stream",
     "text": [
      "/Users/evamennigen/Desktop/data/gapminder_gdp_africa.csv gdpPercap_1952    298.846212\n",
      "gdpPercap_1957    335.997115\n",
      "gdpPercap_1962    355.203227\n",
      "gdpPercap_1967    412.977514\n",
      "gdpPercap_1972    464.099504\n",
      "gdpPercap_1977    502.319733\n",
      "gdpPercap_1982    462.211415\n",
      "gdpPercap_1987    389.876185\n",
      "gdpPercap_1992    410.896824\n",
      "gdpPercap_1997    312.188423\n",
      "gdpPercap_2002    241.165877\n",
      "gdpPercap_2007    277.551859\n",
      "dtype: float64\n",
      "/Users/evamennigen/Desktop/data/gapminder_gdp_asia.csv gdpPercap_1952    331.0\n",
      "gdpPercap_1957    350.0\n",
      "gdpPercap_1962    388.0\n",
      "gdpPercap_1967    349.0\n",
      "gdpPercap_1972    357.0\n",
      "gdpPercap_1977    371.0\n",
      "gdpPercap_1982    424.0\n",
      "gdpPercap_1987    385.0\n",
      "gdpPercap_1992    347.0\n",
      "gdpPercap_1997    415.0\n",
      "gdpPercap_2002    611.0\n",
      "gdpPercap_2007    944.0\n",
      "dtype: float64\n"
     ]
    }
   ],
   "source": [
    "import pandas\n",
    "for filename in ['/Users/evamennigen/Desktop/data/gapminder_gdp_africa.csv', '/Users/evamennigen/Desktop/data/gapminder_gdp_asia.csv']:\n",
    "    data = pandas.read_csv(filename, index_col = 'country')\n",
    "    print(filename, data.min())\n"
   ]
  },
  {
   "cell_type": "code",
   "execution_count": 64,
   "metadata": {},
   "outputs": [
    {
     "name": "stdout",
     "output_type": "stream",
     "text": [
      "/Users/evamennigen/Desktop/data/gapminder_all.csv 298.8462121\n",
      "/Users/evamennigen/Desktop/data/gapminder_gdp_africa.csv 298.8462121\n",
      "/Users/evamennigen/Desktop/data/gapminder_gdp_americas.csv 1397.7171369999999\n",
      "/Users/evamennigen/Desktop/data/gapminder_gdp_asia.csv 331.0\n",
      "/Users/evamennigen/Desktop/data/gapminder_gdp_europe.csv 973.5331947999999\n",
      "/Users/evamennigen/Desktop/data/gapminder_gdp_oceania.csv 10039.595640000001\n"
     ]
    }
   ],
   "source": [
    "import glob\n",
    "for filename in glob.glob('/Users/evamennigen/Desktop/data/gapminder_*.csv'):\n",
    "    data = pandas.read_csv(filename)\n",
    "    print(filename, data['gdpPercap_1952'].min())\n"
   ]
  },
  {
   "cell_type": "code",
   "execution_count": 65,
   "metadata": {},
   "outputs": [
    {
     "name": "stdout",
     "output_type": "stream",
     "text": [
      "all csv files in data directory:  ['/Users/evamennigen/Desktop/data/gapminder_all.csv', '/Users/evamennigen/Desktop/data/gapminder_gdp_africa.csv', '/Users/evamennigen/Desktop/data/gapminder_gdp_americas.csv', '/Users/evamennigen/Desktop/data/gapminder_gdp_asia.csv', '/Users/evamennigen/Desktop/data/gapminder_gdp_europe.csv', '/Users/evamennigen/Desktop/data/gapminder_gdp_oceania.csv', '/Users/evamennigen/Desktop/data/transposed_data.csv']\n"
     ]
    }
   ],
   "source": [
    "print('all csv files in data directory: ', glob.glob('/Users/evamennigen/Desktop/data/*.csv'))"
   ]
  },
  {
   "cell_type": "code",
   "execution_count": 66,
   "metadata": {},
   "outputs": [
    {
     "name": "stdout",
     "output_type": "stream",
     "text": [
      "all PDB files:  []\n"
     ]
    }
   ],
   "source": [
    "my_dir = '/Users/evamennigen/Desktop/data/'\n",
    "print('all PDB files: ', glob.glob('my_dir/*.PDB'))"
   ]
  },
  {
   "cell_type": "markdown",
   "metadata": {},
   "source": [
    "## Defining functions"
   ]
  },
  {
   "cell_type": "code",
   "execution_count": 68,
   "metadata": {},
   "outputs": [],
   "source": [
    "def print_greeting():\n",
    "    print('hello')"
   ]
  },
  {
   "cell_type": "code",
   "execution_count": 70,
   "metadata": {},
   "outputs": [
    {
     "name": "stdout",
     "output_type": "stream",
     "text": [
      "hello\n"
     ]
    }
   ],
   "source": [
    "print_greeting()"
   ]
  },
  {
   "cell_type": "code",
   "execution_count": 83,
   "metadata": {},
   "outputs": [
    {
     "name": "stdout",
     "output_type": "stream",
     "text": [
      "19/3/1872\n",
      "10/1/2019\n",
      "None\n"
     ]
    }
   ],
   "source": [
    "def print_date(year, month, day):\n",
    "    joined = str(day) + '/' + str(month) + '/' + str(year) # euro-style date as output\n",
    "    print(joined)\n",
    "print_date(1872,3,19)\n",
    "\n",
    "print(print_date(2019,1,10)) # the first print command doesn't have an input anymore after print_date was executed"
   ]
  },
  {
   "cell_type": "code",
   "execution_count": 82,
   "metadata": {},
   "outputs": [
    {
     "name": "stdout",
     "output_type": "stream",
     "text": [
      "6.5\n",
      "2.6666666666666665\n",
      "None\n"
     ]
    }
   ],
   "source": [
    "def average(values):\n",
    "    if len(values) == 0:\n",
    "        return None # return is a keyword indicating the end of the if statement, None is basically a NaN\n",
    "    return sum(values) / len(values)\n",
    "\n",
    "x = range(0,14)\n",
    "print(average(x))\n",
    "\n",
    "a = average([1,3,4])\n",
    "print(a)\n",
    "\n",
    "b = average([])\n",
    "print(b)\n"
   ]
  },
  {
   "cell_type": "code",
   "execution_count": 84,
   "metadata": {},
   "outputs": [],
   "source": [
    "def another_function():\n",
    "    print('Syntax errors are annoying.')\n",
    "    print('But at least python tel us about them.')\n",
    "    print('So they are usually not too hard to fix')"
   ]
  },
  {
   "cell_type": "code",
   "execution_count": 86,
   "metadata": {},
   "outputs": [
    {
     "name": "stdout",
     "output_type": "stream",
     "text": [
      "Syntax error are annoying.\n",
      "But at least python tel us about them.\n",
      "So they are usually not too hard to fix\n"
     ]
    }
   ],
   "source": [
    "another_function()"
   ]
  },
  {
   "cell_type": "code",
   "execution_count": null,
   "metadata": {},
   "outputs": [],
   "source": [
    "def average(values):\n",
    "    if len(values) == 0:\n",
    "        return None \n",
    "    return sum(values) / len(values)\n"
   ]
  },
  {
   "cell_type": "code",
   "execution_count": 92,
   "metadata": {},
   "outputs": [
    {
     "name": "stdout",
     "output_type": "stream",
     "text": [
      "20880.023800000003\n"
     ]
    },
    {
     "data": {
      "text/plain": [
       "20880.023800000003"
      ]
     },
     "execution_count": 92,
     "metadata": {},
     "output_type": "execute_result"
    }
   ],
   "source": [
    "import pandas\n",
    "\n",
    "df = pandas.read_csv('/Users/evamennigen/Desktop/data/gapminder_gdp_asia.csv', index_col=0)\n",
    "\n",
    "japan = df.loc['Japan']\n",
    "year = 1983\n",
    "\n",
    "gdp_decade = 'gdpPercap_' + str(year // 10)\n",
    "avg = (japan.loc[gdp_decade + '2'] + japan.loc[gdp_decade + '7']) / 2\n",
    "\n",
    "print(avg)\n",
    "\n",
    "\n",
    "# Function to achieve the same but reusable, not \"hard coded\"\n",
    "\n",
    "def avg_gdp_in_decade(country, continent, year):\n",
    "    df = pandas.read_csv('/Users/evamennigen/Desktop/data/gapminder_gdp_' + continent + '.csv', index_col=0)\n",
    "    c = df.loc[country]\n",
    "    gdp_decade = 'gdpPercap_' + str(year // 10)\n",
    "    total = 0.0\n",
    "    num_years = 0\n",
    "    for yr_header in c.index: # c's index contains reported years\n",
    "        if yr_header.startswith(gdp_decade):\n",
    "            total = total + c.loc[yr_header]\n",
    "            num_years = num_years + 1\n",
    "    return total/num_years\n",
    "\n",
    "# Call function\n",
    "avg_gdp_in_decade('Japan','asia',1983)"
   ]
  },
  {
   "cell_type": "code",
   "execution_count": 96,
   "metadata": {},
   "outputs": [
    {
     "name": "stdout",
     "output_type": "stream",
     "text": [
      "3.54 is large\n",
      "2.07 is small\n"
     ]
    }
   ],
   "source": [
    "mass = 3.54\n",
    "if mass > 3.0:\n",
    "    print(mass, 'is large')\n",
    "\n",
    "mass = 2.07\n",
    "if mass < 3.0:\n",
    "    print(mass, 'is small')\n",
    "\n",
    "# -> this is a good example for when it's reasonable to create a function"
   ]
  },
  {
   "cell_type": "code",
   "execution_count": 98,
   "metadata": {},
   "outputs": [
    {
     "name": "stdout",
     "output_type": "stream",
     "text": [
      "3.54 is large\n",
      "2.07 is small\n",
      "9.22 is huge\n",
      "1.86 is small\n",
      "1.71 is small\n"
     ]
    }
   ],
   "source": [
    "masses = [3.54, 2.07, 9.22, 1.86, 1.71]\n",
    "for m in masses:\n",
    "    if m > 9.0:\n",
    "        print(m, 'is huge')\n",
    "    elif m > 3.0:\n",
    "        print(m, 'is large')\n",
    "    else:\n",
    "        print(m, 'is small')"
   ]
  },
  {
   "cell_type": "code",
   "execution_count": 111,
   "metadata": {},
   "outputs": [
    {
     "name": "stdout",
     "output_type": "stream",
     "text": [
      "yea\n"
     ]
    }
   ],
   "source": [
    "for mass in masses:\n",
    "    if mass > 3.0 and mass < 9.0:\n",
    "        print('yea')"
   ]
  },
  {
   "cell_type": "code",
   "execution_count": 112,
   "metadata": {},
   "outputs": [
    {
     "name": "stdout",
     "output_type": "stream",
     "text": [
      "yea\n",
      "yea\n",
      "yea\n",
      "yea\n",
      "yea\n"
     ]
    }
   ],
   "source": [
    "for mass in masses:\n",
    "    if mass > 3.0 or mass < 9.0:\n",
    "        print('yea')"
   ]
  },
  {
   "cell_type": "code",
   "execution_count": 108,
   "metadata": {},
   "outputs": [],
   "source": [
    "def mass_func(masses):\n",
    "    for m in masses:\n",
    "        if m > 9.0:\n",
    "            print(m, 'is huge')\n",
    "        elif m > 3.0:\n",
    "            print(m, 'is large')\n",
    "        else:\n",
    "            print(m, 'is small')"
   ]
  },
  {
   "cell_type": "code",
   "execution_count": 109,
   "metadata": {},
   "outputs": [
    {
     "name": "stdout",
     "output_type": "stream",
     "text": [
      "1.2 is small\n",
      "2.4 is small\n",
      "4.8 is large\n",
      "9.9 is huge\n",
      "13.5 is huge\n"
     ]
    }
   ],
   "source": [
    "new_mass = [1.2, 2.4, 4.8, 9.9, 13.5]\n",
    "mass_func(new_mass)"
   ]
  },
  {
   "cell_type": "code",
   "execution_count": null,
   "metadata": {},
   "outputs": [],
   "source": []
  }
 ],
 "metadata": {
  "kernelspec": {
   "display_name": "Python 3",
   "language": "python",
   "name": "python3"
  },
  "language_info": {
   "codemirror_mode": {
    "name": "ipython",
    "version": 3
   },
   "file_extension": ".py",
   "mimetype": "text/x-python",
   "name": "python",
   "nbconvert_exporter": "python",
   "pygments_lexer": "ipython3",
   "version": "3.6.7"
  }
 },
 "nbformat": 4,
 "nbformat_minor": 2
}
